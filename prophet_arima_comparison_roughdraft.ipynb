{
 "cells": [
  {
   "cell_type": "markdown",
   "id": "0f0a100f-a99a-420d-a993-5f8ebd8c5aa4",
   "metadata": {
    "tags": []
   },
   "source": [
    "# Imports"
   ]
  },
  {
   "cell_type": "code",
   "execution_count": null,
   "id": "053b4659-c3cc-4624-89be-17eb9716c0f4",
   "metadata": {},
   "outputs": [],
   "source": [
    "# Installing prophet and arima\n",
    "\n",
    "# %pip install Prophet\n",
    "# %pip install pmdarima"
   ]
  },
  {
   "cell_type": "code",
   "execution_count": null,
   "id": "9719d660-450d-494c-848b-9665c0a244b1",
   "metadata": {},
   "outputs": [],
   "source": [
    "# Imports\n",
    "\n",
    "import pandas as pd\n",
    "import yfinance as yf\n",
    "from scipy.stats import norm\n",
    "from matplotlib import pyplot as plt\n",
    "import sklearn\n",
    "from pathlib import Path\n",
    "import csv\n",
    "from prophet import Prophet\n",
    "\n",
    "import numpy as np\n",
    "import hvplot.pandas\n",
    "import holoviews as hv\n",
    "from holoviews import opts\n",
    "hv.extension('bokeh')\n",
    "\n",
    "from pandas.plotting import autocorrelation_plot\n",
    "from statsmodels.tsa.arima.model import ARIMA\n",
    "from pmdarima.arima import auto_arima\n",
    "from statsmodels.graphics.tsaplots import plot_pacf\n",
    "from statsmodels.tsa.stattools import adfuller\n",
    "from statsmodels.graphics.tsaplots import plot_acf\n",
    "from pmdarima.arima.utils import ndiffs\n",
    "\n",
    "\n",
    "\n",
    "\n",
    "\n",
    "from statsmodels.tsa.statespace.sarimax import SARIMAX\n",
    "from statsmodels.tsa.seasonal import seasonal_decompose \n",
    "from pmdarima import auto_arima \n",
    "from pandas import DataFrame\n",
    "from math import sqrt\n",
    "import math\n",
    "from statsmodels.graphics.tsaplots import plot_predict\n",
    "from sklearn.metrics import mean_squared_error, mean_absolute_error\n",
    "\n"
   ]
  },
  {
   "cell_type": "markdown",
   "id": "5da70167-72bd-4788-913f-c075a10b74ff",
   "metadata": {},
   "source": [
    "# FETCHING STOCK DATA (YFinance)"
   ]
  },
  {
   "cell_type": "markdown",
   "id": "a02afe45-fd42-48a4-b7a5-b3b1e8b0c494",
   "metadata": {},
   "source": [
    "### ~ Indicate Ticker ~"
   ]
  },
  {
   "cell_type": "code",
   "execution_count": null,
   "id": "25efe131-9f16-46a8-b0e3-e937efa32147",
   "metadata": {},
   "outputs": [],
   "source": [
    "# Indicate Ticker to pull from Yahoo Finance \n",
    "ticker = yf.Ticker(\"MSFT\")"
   ]
  },
  {
   "cell_type": "markdown",
   "id": "bc9ef8b9-5839-42ee-be3b-e0b4d8d96d58",
   "metadata": {},
   "source": [
    "### ~ Indicate data length ~"
   ]
  },
  {
   "cell_type": "code",
   "execution_count": null,
   "id": "31045294-3a7d-4445-bb7c-6c557a7fff62",
   "metadata": {},
   "outputs": [],
   "source": [
    "# Indicate how far back you would like to test\n",
    "years = 1"
   ]
  },
  {
   "cell_type": "code",
   "execution_count": null,
   "id": "6907bceb-8f1d-41c1-895e-64e6d9dda6ac",
   "metadata": {},
   "outputs": [],
   "source": [
    "# Define start and end date\n",
    "daterange = 365*years\n",
    "\n",
    "today = pd.Timestamp.today(tz=\"America/New_York\")\n",
    "\n",
    "start = today + pd.Timedelta(days=-1-daterange)\n",
    "start = start.strftime('%Y-%m-%d')\n",
    "\n",
    "end = today\n",
    "end = end.strftime('%Y-%m-%d')\n",
    "\n",
    "print(f'Start date: {start}')\n",
    "print(f'End date: {end}')\n"
   ]
  },
  {
   "cell_type": "code",
   "execution_count": null,
   "id": "a6326195-1dbf-42bf-91fb-672d7f95b9f5",
   "metadata": {},
   "outputs": [],
   "source": [
    "# Show historical data of specified ticker and date range\n",
    "stock_df = ticker.history(start=start, end=end)\n",
    "stock_df"
   ]
  },
  {
   "cell_type": "code",
   "execution_count": null,
   "id": "69918647-0c7f-4d4f-b04a-3232e1850286",
   "metadata": {},
   "outputs": [],
   "source": [
    "# Create dataframe with date and close price only\n",
    "stock_df.drop(['Open', 'High', 'Low', 'Volume', 'Dividends', 'Stock Splits'], inplace=True, axis=1)\n",
    "stock_df"
   ]
  },
  {
   "cell_type": "code",
   "execution_count": null,
   "id": "ff438a63-0fde-4c9c-bc97-7d904290e03f",
   "metadata": {},
   "outputs": [],
   "source": [
    "# Plot Ticker historical closing price\n",
    "stock_df.hvplot(title='Plot for '+str(ticker)+'')"
   ]
  },
  {
   "cell_type": "markdown",
   "id": "acdfd477-9564-4eee-ac4f-f1515c4a12cd",
   "metadata": {},
   "source": [
    "# FBPROPHET MODEL"
   ]
  },
  {
   "cell_type": "code",
   "execution_count": null,
   "id": "cf1d6ce5-09e7-434f-a1f3-94e6377d2d9d",
   "metadata": {},
   "outputs": [],
   "source": [
    "# Creating dataframe for fbprophet\n",
    "stock_df_prophet = stock_df.copy()\n",
    "\n",
    "# Reset Index, Rename Date/Close columns to 'ds' and 'y' to apply Prophet model\n",
    "stock_df_prophet.reset_index(inplace=True)\n",
    "stock_df_prophet.rename(columns={'Date':'ds', 'Close':'y'}, inplace=True)\n",
    "stock_df_prophet"
   ]
  },
  {
   "cell_type": "code",
   "execution_count": null,
   "id": "ac4fdaf2-36cf-429a-997b-5d5b8afd19a7",
   "metadata": {},
   "outputs": [],
   "source": [
    "# Call the Prophet function, store as an object\n",
    "model = Prophet(interval_width = 0.95)\n",
    "model\n",
    "# Fit the model\n",
    "model.fit(stock_df_prophet)\n"
   ]
  },
  {
   "cell_type": "markdown",
   "id": "f52a3ec5-69c0-4640-9aca-b715e65f7de1",
   "metadata": {},
   "source": [
    "### ~ Indicate Projection Period ~"
   ]
  },
  {
   "cell_type": "code",
   "execution_count": null,
   "id": "1aef6981-8e7d-4f68-90e3-deeeb3e4b4fe",
   "metadata": {},
   "outputs": [],
   "source": [
    "# Indicate how far out you want to produce predictions\n",
    "days = 30"
   ]
  },
  {
   "cell_type": "code",
   "execution_count": null,
   "id": "d0082089-3853-4dc2-b0ee-81f0e042c074",
   "metadata": {},
   "outputs": [],
   "source": [
    "# Create a future dataframe to hold predictions\n",
    "future_trends = model.make_future_dataframe(periods=days, freq='D')\n",
    "\n",
    "# View the first and last five rows of the future dataframe\n",
    "future_trends.head()\n"
   ]
  },
  {
   "cell_type": "code",
   "execution_count": null,
   "id": "f5509bcc-0eb9-48ff-9eda-565f5d1fe27f",
   "metadata": {},
   "outputs": [],
   "source": [
    "# Make the predictions for the trend data using the future_trends DataFrame\n",
    "forecast_trends = model.predict(future_trends)\n",
    "\n",
    "forecast_trends.head()"
   ]
  },
  {
   "cell_type": "code",
   "execution_count": null,
   "id": "0eed9b4d-3088-466d-944f-a35e0d765ce1",
   "metadata": {},
   "outputs": [],
   "source": [
    "# Plot the Prophet predictions for the forecast_trends data\n",
    "model.plot(forecast_trends)"
   ]
  },
  {
   "cell_type": "code",
   "execution_count": null,
   "id": "79c8fbb3-1c06-4733-a4b9-926062e1ce12",
   "metadata": {},
   "outputs": [],
   "source": [
    "# Set the `datetime` index of the forecast data.\n",
    "forecast_trends = forecast_trends.set_index(['ds'])\n",
    "stock_df_prophet = stock_df_prophet.set_index(['ds'])\n",
    "forecast_trends.head()"
   ]
  },
  {
   "cell_type": "code",
   "execution_count": null,
   "id": "fb801d1c-ddd5-45aa-82d1-122522871fd9",
   "metadata": {},
   "outputs": [],
   "source": [
    "forecast_trends.tail()"
   ]
  },
  {
   "cell_type": "code",
   "execution_count": null,
   "id": "088891b0-fd71-4094-ac02-2d0f8bcffa88",
   "metadata": {},
   "outputs": [],
   "source": [
    "# From the `forecast_trends` DataFrame, use hvPlot to visualize\n",
    "forecast_plot = forecast_trends[['yhat', 'yhat_lower', 'yhat_upper']].hvplot()\n",
    "\n",
    "actual_plot = stock_df_prophet[[\"y\"]].hvplot(title='Forecast for '+str(ticker)+'')\n",
    "\n",
    "comparative_plot = forecast_plot * actual_plot\n",
    "comparative_plot"
   ]
  },
  {
   "cell_type": "markdown",
   "id": "25ea529f-9ee1-44c7-bb32-33b9c0cb2b04",
   "metadata": {},
   "source": [
    "# FBPROPHET - Accuracy score (mean absolute percentage error)"
   ]
  },
  {
   "cell_type": "code",
   "execution_count": null,
   "id": "0d66cafe-c34d-4b8d-ab89-b742a0829815",
   "metadata": {},
   "outputs": [],
   "source": [
    "from sklearn.metrics import mean_absolute_percentage_error"
   ]
  },
  {
   "cell_type": "code",
   "execution_count": null,
   "id": "c7163529-0d8a-4cdc-801e-26d8e7b6f303",
   "metadata": {},
   "outputs": [],
   "source": [
    "# Show historical data of specified ticker and date range\n",
    "stock_df_prophet_test = ticker.history(start='2021-06-03', end='2022-06-03')\n",
    "stock_df_prophet_test.head()"
   ]
  },
  {
   "cell_type": "code",
   "execution_count": null,
   "id": "5e9e1468-ae27-4718-9566-cc9ae919084b",
   "metadata": {},
   "outputs": [],
   "source": [
    "# Create dataframe with date and close price only\n",
    "stock_df_prophet_test.drop(['Open', 'High', 'Low', 'Volume', 'Dividends', 'Stock Splits'], inplace=True, axis=1)\n",
    "stock_df_prophet_test.head()"
   ]
  },
  {
   "cell_type": "code",
   "execution_count": null,
   "id": "ea7df1ac-a8f9-4376-a7ae-8d5454280729",
   "metadata": {},
   "outputs": [],
   "source": [
    "# Reset Index, Rename Date/Close columns to 'ds' and 'y' to apply Prophet model\n",
    "stock_df_prophet_test.reset_index(inplace=True)\n",
    "stock_df_prophet_test.rename(columns={'Date':'ds', 'Close':'y'}, inplace=True)\n",
    "stock_df_prophet_test.head()"
   ]
  },
  {
   "cell_type": "code",
   "execution_count": null,
   "id": "2c4201fe-b8c7-4fdd-9a77-2cad0a17ffaa",
   "metadata": {},
   "outputs": [],
   "source": [
    "# Call the Prophet function, store as an object\n",
    "model_test =Prophet(interval_width = 0.95)\n",
    "model_test\n",
    "# Fit the model\n",
    "model_test.fit(stock_df_prophet_test)"
   ]
  },
  {
   "cell_type": "code",
   "execution_count": null,
   "id": "1778be22-f7b1-4bd5-8ede-c94481806eec",
   "metadata": {},
   "outputs": [],
   "source": [
    "# Create a future dataframe to hold predictions\n",
    "future_trends_test = model_test.make_future_dataframe(periods=7, freq='D')\n",
    "\n",
    "# View the first and last five rows of the future dataframe\n",
    "future_trends_test.tail(10)"
   ]
  },
  {
   "cell_type": "code",
   "execution_count": null,
   "id": "82cb9aae-f17a-483a-b668-043a81c9f688",
   "metadata": {},
   "outputs": [],
   "source": [
    "forecast_trends_test = model_test.predict(future_trends_test)"
   ]
  },
  {
   "cell_type": "code",
   "execution_count": null,
   "id": "ab24444c-dbd9-43bc-a100-699a97a1dcf6",
   "metadata": {},
   "outputs": [],
   "source": [
    "forecast_trends_test.tail(10)"
   ]
  },
  {
   "cell_type": "code",
   "execution_count": null,
   "id": "6353e34f-79f9-4f04-ba4d-cabd73bb2503",
   "metadata": {},
   "outputs": [],
   "source": [
    "forecast_trends_test = forecast_trends_test.set_index(['ds'])\n",
    "stock_df_prophet_test = stock_df_prophet_test.set_index(['ds'])\n"
   ]
  },
  {
   "cell_type": "code",
   "execution_count": null,
   "id": "935036e2-47fd-4115-bc11-83669ce90de9",
   "metadata": {},
   "outputs": [],
   "source": [
    "test_data = stock_df_prophet['y'].loc['2022-06-03':'2022-06-09']\n",
    "prediction = forecast_trends_test['yhat'].loc[['2022-06-03','2022-06-06','2022-06-07','2022-06-08','2022-06-09']]"
   ]
  },
  {
   "cell_type": "code",
   "execution_count": null,
   "id": "68c5f940-e147-4b26-bba0-982054d798f1",
   "metadata": {},
   "outputs": [],
   "source": [
    "test_data"
   ]
  },
  {
   "cell_type": "code",
   "execution_count": null,
   "id": "6231aaae-c382-480e-924a-d4531f4300b7",
   "metadata": {},
   "outputs": [],
   "source": [
    "prediction"
   ]
  },
  {
   "cell_type": "code",
   "execution_count": null,
   "id": "fc49ba60-f5c9-4d56-a135-18d2b4767c81",
   "metadata": {},
   "outputs": [],
   "source": [
    "def evaluation(test_input, test_data, predictions):\n",
    "        r_squared = test_input(test_data, predictions)\n",
    "        \n",
    "        return print(\"Mean Absolute Percentage Score:\", r_squared * 100)"
   ]
  },
  {
   "cell_type": "code",
   "execution_count": null,
   "id": "597902be-0738-4859-a826-d45538da0306",
   "metadata": {},
   "outputs": [],
   "source": [
    "# mean_absolute_percentage_error\n",
    "evaluation(mean_absolute_percentage_error, test_data, prediction)"
   ]
  },
  {
   "cell_type": "markdown",
   "id": "82060516-4885-497d-a862-1669747c0004",
   "metadata": {},
   "source": [
    "# ARIMA MODEL (p, d, q parameters)"
   ]
  },
  {
   "cell_type": "code",
   "execution_count": null,
   "id": "82418344-e06c-492d-861f-afba79bbc729",
   "metadata": {},
   "outputs": [],
   "source": [
    "# creating dataframe\n",
    "stock_df_arima = stock_df\n",
    "stock_df_arima"
   ]
  },
  {
   "cell_type": "markdown",
   "id": "6dee6e5a-4040-45c1-819f-0de1c5a25241",
   "metadata": {},
   "source": [
    "### Augumented Dickey Fuller (ADF) test to check if the price series is stationary"
   ]
  },
  {
   "cell_type": "code",
   "execution_count": null,
   "id": "94c6fc25-33bc-4604-bcb3-69dc8d7bc862",
   "metadata": {},
   "outputs": [],
   "source": [
    "# null hypothesis of the ADF test is that the time series is non-stationary\n",
    "# if the p-value > 0.05 (meaning it's non-stationary) we'll need to find the order of differencing (d parameter)"
   ]
  },
  {
   "cell_type": "code",
   "execution_count": null,
   "id": "2b0525d4-739e-4657-8c5d-441361c4b4c8",
   "metadata": {},
   "outputs": [],
   "source": [
    "# Check if price series is stationary\n",
    "\n",
    "result = adfuller(stock_df_arima.Close.dropna())\n",
    "print(f\"ADF Statistic: {result[0]}\")\n",
    "print(f\"p-value: {result[1]}\")"
   ]
  },
  {
   "cell_type": "markdown",
   "id": "1da7cbc2-cb40-4ccf-a440-78c72997ef46",
   "metadata": {},
   "source": [
    "### (1) d - number of differencing required to make the time series stationary"
   ]
  },
  {
   "cell_type": "code",
   "execution_count": null,
   "id": "68a4786e-887f-46c2-acf9-5a0540aa4adf",
   "metadata": {},
   "outputs": [],
   "source": [
    "# we are looking for d value that has values on ACF plot closest to 0"
   ]
  },
  {
   "cell_type": "code",
   "execution_count": null,
   "id": "9e3a605a-61e2-4d75-8418-54b743fdc7ed",
   "metadata": {},
   "outputs": [],
   "source": [
    "# Not Differentiated (d = 0)\n",
    "\n",
    "fig, (ax1, ax2) = plt.subplots(1, 2, figsize=(16, 4))\n",
    "\n",
    "ax1.plot(stock_df_arima.Close)\n",
    "ax1.set_title(\"Original\")\n",
    "plot_acf(stock_df_arima.Close, ax=ax2);"
   ]
  },
  {
   "cell_type": "code",
   "execution_count": null,
   "id": "cf840dba-1be0-4078-bcfc-8374139c96c1",
   "metadata": {},
   "outputs": [],
   "source": [
    "# Differentiated Once (d = 1)\n",
    "\n",
    "differentiated_once = stock_df_arima.Close.diff().dropna()\n",
    "\n",
    "fig, (ax1, ax2) = plt.subplots(1, 2, figsize=(16, 4))\n",
    "\n",
    "ax1.plot(differentiated_once)\n",
    "ax1.set_title(\"Difference once\")\n",
    "plot_acf(differentiated_once, ax=ax2);"
   ]
  },
  {
   "cell_type": "code",
   "execution_count": null,
   "id": "16ed1527-38a1-4bcc-b589-7fe8df403038",
   "metadata": {},
   "outputs": [],
   "source": [
    "# Differentiated twice (d = 2)\n",
    "\n",
    "differentiated_twice = stock_df_arima.Close.diff().diff().dropna()\n",
    "\n",
    "fig, (ax1, ax2) = plt.subplots(1, 2, figsize=(16, 4))\n",
    "\n",
    "ax1.plot(differentiated_twice)\n",
    "ax1.set_title(\"Difference twice\")\n",
    "plot_acf(differentiated_twice, ax=ax2);"
   ]
  },
  {
   "cell_type": "code",
   "execution_count": null,
   "id": "b30844a4-e34d-4309-a659-11eabfa3e72a",
   "metadata": {},
   "outputs": [],
   "source": [
    "# Differentiated twice (d = 3)\n",
    "\n",
    "differentiated_thrice = stock_df_arima.Close.diff().diff().diff().dropna()\n",
    "\n",
    "fig, (ax1, ax2) = plt.subplots(1, 2, figsize=(16, 4))\n",
    "\n",
    "ax1.plot(differentiated_twice)\n",
    "ax1.set_title(\"Difference thrice\")\n",
    "plot_acf(differentiated_thrice, ax=ax2);"
   ]
  },
  {
   "cell_type": "code",
   "execution_count": null,
   "id": "65403633-e904-4b40-bf71-eef15c72fff5",
   "metadata": {},
   "outputs": [],
   "source": [
    "# Alternatively, can AUTOCALCULATE d value via pmdarima package to confirm manual calculation we did above using ACF plots\n",
    "\n",
    "d_value = ndiffs(stock_df_arima.Close, test=\"adf\")\n",
    "print(f\"d-value: {d_value}\")"
   ]
  },
  {
   "cell_type": "markdown",
   "id": "77d0cb93-9187-4fa6-be9a-8c56a59d897b",
   "metadata": {},
   "source": [
    "### (2) p - the order of the AR term"
   ]
  },
  {
   "cell_type": "markdown",
   "id": "c51ab988-9b29-42e5-8891-dd3b73806d1d",
   "metadata": {},
   "source": [
    "### ~ indicate dataframe with optimal differentiation (d value) from step 1 ~ "
   ]
  },
  {
   "cell_type": "code",
   "execution_count": null,
   "id": "a19cba3c-17b2-431d-9917-1b3f9b879008",
   "metadata": {},
   "outputs": [],
   "source": [
    "# input datafram with optimal differentiation (d value)\n",
    "d_value_df = differentiated_once"
   ]
  },
  {
   "cell_type": "code",
   "execution_count": null,
   "id": "bc560f0a-93c7-4fd1-856b-2edbcef9caac",
   "metadata": {},
   "outputs": [],
   "source": [
    "# p is the order of the Auto Regressive (AR) term. It refers to the number of lags to be used as predictors. \n",
    "# We can find out the required number of AR terms by inspecting the Partial Autocorrelation (PACF) plot.\n",
    "# The partial autocorrelation represents the correlation between the series and its lags. \n",
    "\n",
    "fig, (ax1, ax2) = plt.subplots(1, 2, figsize=(16, 4))\n",
    "\n",
    "ax1.plot(d_value_df)\n",
    "ax1.set_title(\"d = [?]\")\n",
    "plot_pacf(d_value_df, ax=ax2);"
   ]
  },
  {
   "cell_type": "code",
   "execution_count": null,
   "id": "56ebf228-4071-47f2-9079-e17eff517483",
   "metadata": {},
   "outputs": [],
   "source": [
    "# p value =  lag # that is above (?or below) the significance line "
   ]
  },
  {
   "cell_type": "markdown",
   "id": "535ec9c8-a240-4328-bf24-e049b3bfa8a2",
   "metadata": {},
   "source": [
    "### (3) q -the order of the MA term"
   ]
  },
  {
   "cell_type": "code",
   "execution_count": null,
   "id": "b9f5bd4a-ea99-4076-8c84-af8ed0081981",
   "metadata": {},
   "outputs": [],
   "source": [
    "# q is the order of the Moving Average (MA) term. It refers to the number of lagged forecast errors that should go into the ARIMA Model.\n",
    "# We can look at the ACF plot for the number of MA terms.\n",
    "\n",
    "fig, (ax1, ax2) = plt.subplots(1, 2, figsize=(16, 4))\n",
    "\n",
    "ax1.plot(d_value_df)\n",
    "ax1.set_title(\"d = [?]\")\n",
    "ax2.set_ylim(0, 1)\n",
    "plot_acf(d_value_df, ax=ax2);"
   ]
  },
  {
   "cell_type": "code",
   "execution_count": null,
   "id": "a4f579bf-993f-447c-9daf-633d2234e155",
   "metadata": {},
   "outputs": [],
   "source": [
    "# q value =  order # that is above (?or below) the significance line ???"
   ]
  },
  {
   "cell_type": "markdown",
   "id": "7f6f7b98-9e7c-4ef9-9092-58155d3ee99b",
   "metadata": {},
   "source": [
    "### ~ Indicate p, d, q values ~"
   ]
  },
  {
   "cell_type": "code",
   "execution_count": null,
   "id": "d6cb2ec5-689b-41f3-9e7d-55ac11669d64",
   "metadata": {},
   "outputs": [],
   "source": [
    "p = 0\n",
    "d = 1\n",
    "q = 0"
   ]
  },
  {
   "cell_type": "code",
   "execution_count": null,
   "id": "77506989-d1e2-4bc2-914d-a9e238c7bdc3",
   "metadata": {},
   "outputs": [],
   "source": []
  },
  {
   "cell_type": "markdown",
   "id": "56825fb9-718d-4381-b4d6-b43603ac811a",
   "metadata": {},
   "source": [
    "## Converting DF into pct_change"
   ]
  },
  {
   "cell_type": "code",
   "execution_count": null,
   "id": "71145664-c2d1-4300-b43c-4b5059ce7aba",
   "metadata": {},
   "outputs": [],
   "source": [
    "# calculating pct_change - use pct_change data to apply to model\n",
    "stock_df_arima_pctchange = stock_df_arima.pct_change()\n",
    "stock_df_arima_pctchange.rename(columns={'Close':'pct change'}, inplace=True)\n",
    "stock_df_arima_pctchange"
   ]
  },
  {
   "cell_type": "markdown",
   "id": "1e9e38af-031b-410a-a776-ac5b06732980",
   "metadata": {},
   "source": [
    "### Split Train Test Data"
   ]
  },
  {
   "cell_type": "markdown",
   "id": "d7b63670-5034-458f-a1e8-52e022a0dc06",
   "metadata": {},
   "source": [
    "### ~ indicate test data length of days from today ~ "
   ]
  },
  {
   "cell_type": "code",
   "execution_count": null,
   "id": "fcfa25b3-5441-4d50-919f-146d1ff5aa1e",
   "metadata": {},
   "outputs": [],
   "source": [
    "days_test_data = 30"
   ]
  },
  {
   "cell_type": "code",
   "execution_count": null,
   "id": "1bfde093-d266-437b-8426-addd7401367a",
   "metadata": {},
   "outputs": [],
   "source": [
    "# Test vs Training data split\n",
    "\n",
    "# df_log = np.log(stock_df_arima)\n",
    "train_data, test_data = stock_df_arima_pctchange[3:int(len(stock_df_arima_pctchange)-days_test_data)], stock_df_arima_pctchange[int(len(stock_df_arima_pctchange)-days_test_data):]\n",
    "\n",
    "train_data_close, test_data_close = stock_df_arima[3:int(len(stock_df_arima_pctchange)-days_test_data)], stock_df_arima[int(len(stock_df_arima)-days_test_data):]\n",
    "# need this variable for combing dataframes later on\n",
    "\n",
    "plt.figure(figsize=(10,6))\n",
    "plt.grid(True)\n",
    "plt.xlabel('Dates')\n",
    "plt.ylabel('pct change')\n",
    "plt.plot(stock_df_arima_pctchange, 'green', label='Train data')\n",
    "plt.plot(test_data, 'blue', label='Test data')\n",
    "plt.legend()"
   ]
  },
  {
   "cell_type": "code",
   "execution_count": null,
   "id": "033d1630-f741-4182-bf0b-be111d731abd",
   "metadata": {},
   "outputs": [],
   "source": [
    "train_data.head()"
   ]
  },
  {
   "cell_type": "markdown",
   "id": "8f34c23b-7bda-4e3f-bb83-43fd501bdf74",
   "metadata": {},
   "source": [
    "### Apply TRAINING Data (pct_change) to ARIMA Model"
   ]
  },
  {
   "cell_type": "code",
   "execution_count": null,
   "id": "87b3e9f3-c898-4653-9228-36e88bd164f9",
   "metadata": {},
   "outputs": [],
   "source": [
    "# ARIMA Model\n",
    "#stock_df_arima.index = pd.DatetimeIndex(stock_df_arima.index).to_period('D')\n",
    "\n",
    "model = ARIMA(train_data, order=(p, d, q))\n",
    "result = model.fit()\n",
    "result.summary()"
   ]
  },
  {
   "cell_type": "code",
   "execution_count": null,
   "id": "de773841-bba0-41b5-8094-5c37bf484bdd",
   "metadata": {},
   "outputs": [],
   "source": [
    "# plot residual erros --???\n",
    "residuals = pd.DataFrame(result.resid)\n",
    "residuals.plot()\n",
    "residuals.plot(kind='kde')\n",
    "print(residuals.describe())"
   ]
  },
  {
   "cell_type": "code",
   "execution_count": null,
   "id": "8c796a18-1679-4ae3-b4d2-c3f241b26257",
   "metadata": {},
   "outputs": [],
   "source": [
    "# Forecasting (indicate how many days out)\n",
    "\n",
    "forecast = result.get_forecast(days_test_data)\n",
    "\n",
    "fc = result.forecast(days_test_data)\n",
    "fc.head()"
   ]
  },
  {
   "cell_type": "code",
   "execution_count": null,
   "id": "d29b154c-58dd-4e19-a8e5-6503aec5bd31",
   "metadata": {},
   "outputs": [],
   "source": [
    "ci = forecast.conf_int()\n",
    "\n",
    "ci.head()"
   ]
  },
  {
   "cell_type": "code",
   "execution_count": null,
   "id": "8938897f-6ecd-4056-9f10-dd08a05781df",
   "metadata": {},
   "outputs": [],
   "source": [
    "# combine fc and ci\n",
    "train_data_fc_ci = pd.concat([fc, ci], axis=1, join=\"inner\")\n",
    "train_data_fc_ci.head()"
   ]
  },
  {
   "cell_type": "code",
   "execution_count": null,
   "id": "53d67fbf-49b7-44e5-898f-d678380c3368",
   "metadata": {},
   "outputs": [],
   "source": [
    "test_data_close.reset_index().head()"
   ]
  },
  {
   "cell_type": "code",
   "execution_count": null,
   "id": "6091ec8f-7281-4b3c-9110-75fa03b43ea0",
   "metadata": {},
   "outputs": [],
   "source": [
    "df = test_data_close.index.tolist()\n",
    "df_2 = test_data_close['Close'].values.tolist()"
   ]
  },
  {
   "cell_type": "code",
   "execution_count": null,
   "id": "8f3eddcf-7719-4bb5-8a3d-0fd735def1a9",
   "metadata": {},
   "outputs": [],
   "source": [
    "train_data_fc_ci['value'] = df_2\n",
    "train_data_fc_ci['date'] = df\n",
    "train_data_fc_ci.head()"
   ]
  },
  {
   "cell_type": "code",
   "execution_count": null,
   "id": "84812a83-1a27-4940-afd0-27712c2635dd",
   "metadata": {},
   "outputs": [],
   "source": [
    "train_data_fc_ci = train_data_fc_ci.set_index('date')"
   ]
  },
  {
   "cell_type": "code",
   "execution_count": null,
   "id": "5d229f90-8f2e-478c-a925-55054c0a4525",
   "metadata": {},
   "outputs": [],
   "source": [
    "# Convert pct_change back to closing prices using formula:\n",
    "# (1+pctchange) * prev closing price \n",
    "train_data_fc_ci['test data close'] = (train_data_fc_ci['value'].shift(1)  * (1 + train_data_fc_ci['predicted_mean']))\n",
    "train_data_fc_ci['Lower CI'] = (train_data_fc_ci['value'].shift(1)  * (1 + train_data_fc_ci['lower pct change']))\n",
    "train_data_fc_ci['Upper CI'] = (train_data_fc_ci['value'].shift(1)  * (1 + train_data_fc_ci['upper pct change']))\n",
    "train_data_fc_ci.head()"
   ]
  },
  {
   "cell_type": "code",
   "execution_count": null,
   "id": "d654853d-3293-48c0-a240-3142726c1580",
   "metadata": {},
   "outputs": [],
   "source": [
    "train_data_fc_ci.plot()"
   ]
  },
  {
   "cell_type": "code",
   "execution_count": null,
   "id": "88f7bfdc-6691-441f-9f4d-87fe4b3a4c78",
   "metadata": {},
   "outputs": [],
   "source": [
    "test_data_close.plot()"
   ]
  },
  {
   "cell_type": "code",
   "execution_count": null,
   "id": "d0efbd23-3397-4f9b-a6a3-20bc990a07c7",
   "metadata": {},
   "outputs": [],
   "source": [
    "# Actual vs Projected Price of Testing data\n",
    "plt.plot(train_data_fc_ci['value'])\n",
    "plt.plot(train_data_fc_ci['test data close'])"
   ]
  },
  {
   "cell_type": "code",
   "execution_count": null,
   "id": "ac3daa53-76ab-43e6-94c3-bc76346baebe",
   "metadata": {},
   "outputs": [],
   "source": [
    "# combine graphs\n",
    "plt.plot(train_data_close, label=\"Close\", color=\"blue\")\n",
    "plt.plot(train_data_fc_ci['value'], color=\"blue\")\n",
    "plt.plot(train_data_fc_ci['test data close'], color=\"red\")\n",
    "plt.plot(train_data_fc_ci['Lower CI'], color=\"grey\")\n",
    "plt.plot(train_data_fc_ci['Upper CI'], color=\"grey\")\n"
   ]
  },
  {
   "cell_type": "markdown",
   "id": "ff8a90d2-4814-457b-945b-c0cd4d3cb467",
   "metadata": {},
   "source": [
    "### adding dates to forecasted price"
   ]
  },
  {
   "cell_type": "code",
   "execution_count": null,
   "id": "074fff28-6562-49d6-b8eb-5b67ec628f56",
   "metadata": {},
   "outputs": [],
   "source": [
    "# date autogeneration ---> but needs only weekdays ########################\n",
    "date_testdata = pd.date_range(end=today, freq='D', periods=30)\n",
    "date_testdata"
   ]
  },
  {
   "cell_type": "code",
   "execution_count": null,
   "id": "fce2b8af-41eb-4fc2-b85d-5ccd2501563b",
   "metadata": {},
   "outputs": [],
   "source": [
    "# comibning date with forecasted and ci df ############## error\n",
    "\n",
    "stock_df_arima_traindata_date = pd.concat(train_data_fc_ci, date_testdata), axis=1, ignore_index=True)\n"
   ]
  },
  {
   "cell_type": "code",
   "execution_count": null,
   "id": "39fe1dfd-179e-416b-9757-c8b977445c4c",
   "metadata": {},
   "outputs": [],
   "source": []
  },
  {
   "cell_type": "code",
   "execution_count": null,
   "id": "d7351119-b22d-4679-a4e7-5b4e94b537bf",
   "metadata": {},
   "outputs": [],
   "source": []
  },
  {
   "cell_type": "code",
   "execution_count": null,
   "id": "739b290f-6a27-4971-93ec-1920df36da36",
   "metadata": {},
   "outputs": [],
   "source": []
  },
  {
   "cell_type": "code",
   "execution_count": null,
   "id": "dfa646a0-d6fa-42b3-b34c-aa4660c72fd9",
   "metadata": {},
   "outputs": [],
   "source": []
  },
  {
   "cell_type": "markdown",
   "id": "c6af6728-bc6a-4277-b2a0-1ade516e1756",
   "metadata": {},
   "source": [
    "### Convert pct_change back to CLose price"
   ]
  },
  {
   "cell_type": "code",
   "execution_count": null,
   "id": "865db272-afca-46c5-8e23-3550d6e2cd81",
   "metadata": {},
   "outputs": [],
   "source": [
    "# Convert pct_change back to closing prices using formula:\n",
    "# (1+pctchange) * prev closing price \n",
    "stock_df_arima['test data close'] = (stock_df_arima['Close'].shift(1)  * (1 + stock_df_arima['test data pct_change']))\n",
    "stock_df_arima"
   ]
  },
  {
   "cell_type": "markdown",
   "id": "eaef2d4e-65de-4dc9-ae48-1874b53f791d",
   "metadata": {},
   "source": [
    "### Forecasting"
   ]
  },
  {
   "cell_type": "code",
   "execution_count": null,
   "id": "e4a1a77a-ef08-4d76-bfc0-6f4f588073f3",
   "metadata": {},
   "outputs": [],
   "source": [
    "# ARIMA Model\n",
    "#stock_df_arima.index = pd.DatetimeIndex(stock_df_arima.index).to_period('D')\n",
    "\n",
    "model = ARIMA(stock_df_pct.Close, order=(p, d, q))\n",
    "result = model.fit()\n",
    "result.summary()"
   ]
  },
  {
   "cell_type": "code",
   "execution_count": null,
   "id": "634e458e-147a-41b6-86ab-77f86b0f0cd1",
   "metadata": {},
   "outputs": [],
   "source": [
    "# Forecasting (indicate how many days out)\n",
    "\n",
    "forecast = result.get_forecast(51)\n",
    "\n",
    "fc = result.forecast(51)\n",
    "fc.head()"
   ]
  },
  {
   "cell_type": "code",
   "execution_count": null,
   "id": "9c376a5c-cd65-4fe2-83b5-749a656e51b4",
   "metadata": {},
   "outputs": [],
   "source": [
    "ci = forecast.conf_int()\n",
    "\n",
    "ci.head()"
   ]
  },
  {
   "cell_type": "code",
   "execution_count": null,
   "id": "d53d470c-7b9c-477b-b69a-84bb922467d8",
   "metadata": {},
   "outputs": [],
   "source": [
    "# combine fc and ci\n",
    "fc_df_arima = pd.concat([fc, ci], axis=1, join=\"inner\")\n",
    "fc_df_arima.head()"
   ]
  },
  {
   "cell_type": "code",
   "execution_count": null,
   "id": "500d7dfe-593a-427e-b441-f6950ffac39d",
   "metadata": {
    "tags": []
   },
   "outputs": [],
   "source": [
    "# Actual vs Fitted plot ???? [ delete]\n",
    "\n",
    "plot_predict(\n",
    "   result, \n",
    "   start=1,\n",
    "   end=60,\n",
    "  dynamic=False);"
   ]
  },
  {
   "cell_type": "code",
   "execution_count": null,
   "id": "ab3de926-59a7-4555-b9d3-50f3afbe1b64",
   "metadata": {},
   "outputs": [],
   "source": [
    "forecast_plot_arima_ci = ci[['lower Close', 'upper Close']].hvplot()\n",
    "\n",
    "\n",
    "actual_plot_arima = stock_df_arima[[\"Close\"]].hvplot(title='Forecast for '+str(ticker)+'')\n",
    "\n",
    "comparative_plot_arima = forecast_plot_arima_ci * actual_plot_arima\n",
    "comparative_plot_arima"
   ]
  },
  {
   "cell_type": "markdown",
   "id": "202d24fa-393b-478b-8d63-96e91eb49d42",
   "metadata": {},
   "source": [
    "### Make a panda series / Graph"
   ]
  },
  {
   "cell_type": "code",
   "execution_count": null,
   "id": "6de2a394-92b8-4162-a694-34be89ff5103",
   "metadata": {},
   "outputs": [],
   "source": [
    "fc = pd.Series(fc, index=test_data[:step].index)\n"
   ]
  },
  {
   "cell_type": "code",
   "execution_count": null,
   "id": "acae2df9-ea24-4d90-b506-1b9161518205",
   "metadata": {},
   "outputs": [],
   "source": [
    "lower = pd.Series(ci[:, 0], index=test_data[:step].index)\n",
    "# upper = pd.Series(ci[:, 1], index=test_data[:step].index)"
   ]
  },
  {
   "cell_type": "code",
   "execution_count": null,
   "id": "769f72d4-360c-4be5-b226-1e0386db885e",
   "metadata": {},
   "outputs": [],
   "source": [
    "plt.figure(figsize=(16, 8))\n",
    "plt.plot(test[:step], label=\"actual\")\n",
    "plt.plot(fc, label=\"forecast\")\n",
    "plt.fill_between(lower.index, lower, upper, color=\"k\", alpha=0.1)\n",
    "plt.title(\"Forecast vs Actual\")\n",
    "plt.legend(loc=\"upper left\")"
   ]
  },
  {
   "cell_type": "markdown",
   "id": "e6644602-f16b-41c8-89da-d215b9237002",
   "metadata": {},
   "source": [
    "### Auto ARIMA (shortcut for figuring out optimal q, d, p)"
   ]
  },
  {
   "cell_type": "code",
   "execution_count": null,
   "id": "c2509fb6-44d0-464e-80ac-edcb10417a36",
   "metadata": {},
   "outputs": [],
   "source": [
    "model = auto_arima(\n",
    "    stock_df_arima.Close,\n",
    "    start_p=1,\n",
    "    start_q=1,\n",
    "    test=\"adf\",\n",
    "    max_p=6,\n",
    "    max_q=6,\n",
    "    m=1,  # frequency of series\n",
    "    d=None,  # determine 'd'\n",
    "    seasonal=False,  # no seasonality\n",
    "    trace=True,\n",
    "    stepwise=True,\n",
    ")\n",
    "\n"
   ]
  },
  {
   "cell_type": "markdown",
   "id": "c8dcc686-8605-4971-92f5-e09f9b0a5551",
   "metadata": {},
   "source": [
    "# ARIMA - Accuracy score (mean absolute percentage error)"
   ]
  },
  {
   "cell_type": "code",
   "execution_count": null,
   "id": "3e7d5088-2f65-487b-8230-f45ef74a3610",
   "metadata": {},
   "outputs": [],
   "source": [
    "# forecasted closing price\n",
    "a = train_data_fc_ci['test data close']\n",
    "a.dropna()\n",
    "# actual closing price\n",
    "b = train_data_fc_ci['value']\n",
    "b.dropna()"
   ]
  },
  {
   "cell_type": "code",
   "execution_count": null,
   "id": "9c49ef3f-44b6-4de0-a8ea-022ecc7c9198",
   "metadata": {},
   "outputs": [],
   "source": [
    "mse = mean_squared_error(b, a)\n",
    "print('MSE: '+str(mse))\n",
    "mae = mean_absolute_error(b, a)\n",
    "print('MAE: '+str(mae))\n",
    "rmse = math.sqrt(mean_squared_error(b, a))\n",
    "print('RMSE: '+str(rmse))\n",
    "mape = np.mean(np.abs(a - b)/np.abs(b))\n",
    "print('MAPE: '+str(mape))"
   ]
  },
  {
   "cell_type": "code",
   "execution_count": null,
   "id": "c9b0a2da-c83c-4f58-9bde-6b5e88d6d434",
   "metadata": {},
   "outputs": [],
   "source": []
  },
  {
   "cell_type": "markdown",
   "id": "fb3787f6-c3c7-45c1-b584-0857dff47cfc",
   "metadata": {},
   "source": [
    "# FBPROPHET vs ARIMA - analysis, graphs"
   ]
  },
  {
   "cell_type": "code",
   "execution_count": null,
   "id": "84d9a466-e263-43dd-bc5a-cb619db4b357",
   "metadata": {},
   "outputs": [],
   "source": []
  }
 ],
 "metadata": {
  "kernelspec": {
   "display_name": "Python dev",
   "language": "python",
   "name": "myenv"
  },
  "language_info": {
   "codemirror_mode": {
    "name": "ipython",
    "version": 3
   },
   "file_extension": ".py",
   "mimetype": "text/x-python",
   "name": "python",
   "nbconvert_exporter": "python",
   "pygments_lexer": "ipython3",
   "version": "3.9.12"
  }
 },
 "nbformat": 4,
 "nbformat_minor": 5
}
